{
  "nbformat": 4,
  "nbformat_minor": 0,
  "metadata": {
    "colab": {
      "name": "ngetrain3",
      "provenance": []
    },
    "kernelspec": {
      "name": "python3",
      "display_name": "Python 3"
    },
    "language_info": {
      "name": "python"
    },
    "accelerator": "GPU"
  },
  "cells": [
    {
      "cell_type": "code",
      "execution_count": 13,
      "metadata": {
        "colab": {
          "base_uri": "https://localhost:8080/"
        },
        "id": "kD2mi4yjH8Sz",
        "outputId": "93953106-5da2-4603-d901-22ac506a874d"
      },
      "outputs": [
        {
          "output_type": "stream",
          "name": "stdout",
          "text": [
            "Reading package lists... Done\n",
            "Building dependency tree       \n",
            "Reading state information... Done\n",
            "libportaudio2 is already the newest version (19.6.0-1).\n",
            "The following package was automatically installed and is no longer required:\n",
            "  libnvidia-common-460\n",
            "Use 'sudo apt autoremove' to remove it.\n",
            "0 upgraded, 0 newly installed, 0 to remove and 42 not upgraded.\n",
            "Looking in indexes: https://pypi.org/simple, https://us-python.pkg.dev/colab-wheels/public/simple/\n",
            "Requirement already satisfied: tflite_model_maker in /usr/local/lib/python3.7/dist-packages (0.4.0)\n",
            "Requirement already satisfied: absl-py>=0.10.0 in /usr/local/lib/python3.7/dist-packages (from tflite_model_maker) (1.0.0)\n",
            "Requirement already satisfied: numba==0.53 in /usr/local/lib/python3.7/dist-packages (from tflite_model_maker) (0.53.0)\n",
            "Requirement already satisfied: PyYAML>=5.1 in /usr/local/lib/python3.7/dist-packages (from tflite_model_maker) (6.0)\n",
            "Requirement already satisfied: Cython>=0.29.13 in /usr/local/lib/python3.7/dist-packages (from tflite_model_maker) (0.29.30)\n",
            "Requirement already satisfied: pillow>=7.0.0 in /usr/local/lib/python3.7/dist-packages (from tflite_model_maker) (7.1.2)\n",
            "Requirement already satisfied: fire>=0.3.1 in /usr/local/lib/python3.7/dist-packages (from tflite_model_maker) (0.4.0)\n",
            "Requirement already satisfied: matplotlib<3.5.0,>=3.0.3 in /usr/local/lib/python3.7/dist-packages (from tflite_model_maker) (3.2.2)\n",
            "Requirement already satisfied: tensorflow-model-optimization>=0.5 in /usr/local/lib/python3.7/dist-packages (from tflite_model_maker) (0.7.2)\n",
            "Requirement already satisfied: librosa==0.8.1 in /usr/local/lib/python3.7/dist-packages (from tflite_model_maker) (0.8.1)\n",
            "Requirement already satisfied: tflite-support>=0.4.0 in /usr/local/lib/python3.7/dist-packages (from tflite_model_maker) (0.4.0)\n",
            "Requirement already satisfied: tensorflow>=2.6.0 in /usr/local/lib/python3.7/dist-packages (from tflite_model_maker) (2.8.0+zzzcolab20220506162203)\n",
            "Requirement already satisfied: lxml>=4.6.1 in /usr/local/lib/python3.7/dist-packages (from tflite_model_maker) (4.8.0)\n",
            "Requirement already satisfied: tensorflow-hub<0.13,>=0.7.0 in /usr/local/lib/python3.7/dist-packages (from tflite_model_maker) (0.12.0)\n",
            "Requirement already satisfied: tensorflow-addons>=0.11.2 in /usr/local/lib/python3.7/dist-packages (from tflite_model_maker) (0.17.0)\n",
            "Requirement already satisfied: tf-models-official==2.3.0 in /usr/local/lib/python3.7/dist-packages (from tflite_model_maker) (2.3.0)\n",
            "Requirement already satisfied: flatbuffers==1.12 in /usr/local/lib/python3.7/dist-packages (from tflite_model_maker) (1.12)\n",
            "Requirement already satisfied: tensorflow-datasets>=2.1.0 in /usr/local/lib/python3.7/dist-packages (from tflite_model_maker) (4.0.1)\n",
            "Requirement already satisfied: numpy>=1.17.3 in /usr/local/lib/python3.7/dist-packages (from tflite_model_maker) (1.21.6)\n",
            "Requirement already satisfied: sentencepiece>=0.1.91 in /usr/local/lib/python3.7/dist-packages (from tflite_model_maker) (0.1.96)\n",
            "Requirement already satisfied: scann>=1.2.6 in /usr/local/lib/python3.7/dist-packages (from tflite_model_maker) (1.2.6)\n",
            "Requirement already satisfied: tensorflowjs>=2.4.0 in /usr/local/lib/python3.7/dist-packages (from tflite_model_maker) (3.18.0)\n",
            "Requirement already satisfied: six>=1.12.0 in /usr/local/lib/python3.7/dist-packages (from tflite_model_maker) (1.15.0)\n",
            "Requirement already satisfied: neural-structured-learning>=1.3.1 in /usr/local/lib/python3.7/dist-packages (from tflite_model_maker) (1.3.1)\n",
            "Requirement already satisfied: urllib3!=1.25.0,!=1.25.1,<1.26,>=1.21.1 in /usr/local/lib/python3.7/dist-packages (from tflite_model_maker) (1.24.3)\n",
            "Requirement already satisfied: audioread>=2.0.0 in /usr/local/lib/python3.7/dist-packages (from librosa==0.8.1->tflite_model_maker) (2.1.9)\n",
            "Requirement already satisfied: joblib>=0.14 in /usr/local/lib/python3.7/dist-packages (from librosa==0.8.1->tflite_model_maker) (1.1.0)\n",
            "Requirement already satisfied: soundfile>=0.10.2 in /usr/local/lib/python3.7/dist-packages (from librosa==0.8.1->tflite_model_maker) (0.10.3.post1)\n",
            "Requirement already satisfied: scikit-learn!=0.19.0,>=0.14.0 in /usr/local/lib/python3.7/dist-packages (from librosa==0.8.1->tflite_model_maker) (1.0.2)\n",
            "Requirement already satisfied: scipy>=1.0.0 in /usr/local/lib/python3.7/dist-packages (from librosa==0.8.1->tflite_model_maker) (1.4.1)\n",
            "Requirement already satisfied: decorator>=3.0.0 in /usr/local/lib/python3.7/dist-packages (from librosa==0.8.1->tflite_model_maker) (4.4.2)\n",
            "Requirement already satisfied: packaging>=20.0 in /usr/local/lib/python3.7/dist-packages (from librosa==0.8.1->tflite_model_maker) (20.9)\n",
            "Requirement already satisfied: pooch>=1.0 in /usr/local/lib/python3.7/dist-packages (from librosa==0.8.1->tflite_model_maker) (1.6.0)\n",
            "Requirement already satisfied: resampy>=0.2.2 in /usr/local/lib/python3.7/dist-packages (from librosa==0.8.1->tflite_model_maker) (0.2.2)\n",
            "Requirement already satisfied: setuptools in /usr/local/lib/python3.7/dist-packages (from numba==0.53->tflite_model_maker) (57.4.0)\n",
            "Requirement already satisfied: llvmlite<0.37,>=0.36.0rc1 in /usr/local/lib/python3.7/dist-packages (from numba==0.53->tflite_model_maker) (0.36.0)\n",
            "Requirement already satisfied: google-cloud-bigquery>=0.31.0 in /usr/local/lib/python3.7/dist-packages (from tf-models-official==2.3.0->tflite_model_maker) (1.21.0)\n",
            "Requirement already satisfied: py-cpuinfo>=3.3.0 in /usr/local/lib/python3.7/dist-packages (from tf-models-official==2.3.0->tflite_model_maker) (8.0.0)\n",
            "Requirement already satisfied: opencv-python-headless in /usr/local/lib/python3.7/dist-packages (from tf-models-official==2.3.0->tflite_model_maker) (4.5.5.64)\n",
            "Requirement already satisfied: pandas>=0.22.0 in /usr/local/lib/python3.7/dist-packages (from tf-models-official==2.3.0->tflite_model_maker) (1.3.5)\n",
            "Requirement already satisfied: kaggle>=1.3.9 in /usr/local/lib/python3.7/dist-packages (from tf-models-official==2.3.0->tflite_model_maker) (1.5.12)\n",
            "Requirement already satisfied: google-api-python-client>=1.6.7 in /usr/local/lib/python3.7/dist-packages (from tf-models-official==2.3.0->tflite_model_maker) (1.12.11)\n",
            "Requirement already satisfied: gin-config in /usr/local/lib/python3.7/dist-packages (from tf-models-official==2.3.0->tflite_model_maker) (0.5.0)\n",
            "Requirement already satisfied: dataclasses in /usr/local/lib/python3.7/dist-packages (from tf-models-official==2.3.0->tflite_model_maker) (0.6)\n",
            "Requirement already satisfied: psutil>=5.4.3 in /usr/local/lib/python3.7/dist-packages (from tf-models-official==2.3.0->tflite_model_maker) (5.4.8)\n",
            "Requirement already satisfied: tf-slim>=1.1.0 in /usr/local/lib/python3.7/dist-packages (from tf-models-official==2.3.0->tflite_model_maker) (1.1.0)\n",
            "Requirement already satisfied: termcolor in /usr/local/lib/python3.7/dist-packages (from fire>=0.3.1->tflite_model_maker) (1.1.0)\n",
            "Requirement already satisfied: google-api-core<3dev,>=1.21.0 in /usr/local/lib/python3.7/dist-packages (from google-api-python-client>=1.6.7->tf-models-official==2.3.0->tflite_model_maker) (1.31.5)\n",
            "Requirement already satisfied: uritemplate<4dev,>=3.0.0 in /usr/local/lib/python3.7/dist-packages (from google-api-python-client>=1.6.7->tf-models-official==2.3.0->tflite_model_maker) (3.0.1)\n",
            "Requirement already satisfied: google-auth-httplib2>=0.0.3 in /usr/local/lib/python3.7/dist-packages (from google-api-python-client>=1.6.7->tf-models-official==2.3.0->tflite_model_maker) (0.0.4)\n",
            "Requirement already satisfied: httplib2<1dev,>=0.15.0 in /usr/local/lib/python3.7/dist-packages (from google-api-python-client>=1.6.7->tf-models-official==2.3.0->tflite_model_maker) (0.17.4)\n",
            "Requirement already satisfied: google-auth<3dev,>=1.16.0 in /usr/local/lib/python3.7/dist-packages (from google-api-python-client>=1.6.7->tf-models-official==2.3.0->tflite_model_maker) (1.35.0)\n",
            "Requirement already satisfied: protobuf>=3.12.0 in /usr/local/lib/python3.7/dist-packages (from google-api-core<3dev,>=1.21.0->google-api-python-client>=1.6.7->tf-models-official==2.3.0->tflite_model_maker) (3.20.1)\n",
            "Requirement already satisfied: pytz in /usr/local/lib/python3.7/dist-packages (from google-api-core<3dev,>=1.21.0->google-api-python-client>=1.6.7->tf-models-official==2.3.0->tflite_model_maker) (2022.1)\n",
            "Requirement already satisfied: requests<3.0.0dev,>=2.18.0 in /usr/local/lib/python3.7/dist-packages (from google-api-core<3dev,>=1.21.0->google-api-python-client>=1.6.7->tf-models-official==2.3.0->tflite_model_maker) (2.23.0)\n",
            "Requirement already satisfied: googleapis-common-protos<2.0dev,>=1.6.0 in /usr/local/lib/python3.7/dist-packages (from google-api-core<3dev,>=1.21.0->google-api-python-client>=1.6.7->tf-models-official==2.3.0->tflite_model_maker) (1.56.1)\n",
            "Requirement already satisfied: cachetools<5.0,>=2.0.0 in /usr/local/lib/python3.7/dist-packages (from google-auth<3dev,>=1.16.0->google-api-python-client>=1.6.7->tf-models-official==2.3.0->tflite_model_maker) (4.2.4)\n",
            "Requirement already satisfied: pyasn1-modules>=0.2.1 in /usr/local/lib/python3.7/dist-packages (from google-auth<3dev,>=1.16.0->google-api-python-client>=1.6.7->tf-models-official==2.3.0->tflite_model_maker) (0.2.8)\n",
            "Requirement already satisfied: rsa<5,>=3.1.4 in /usr/local/lib/python3.7/dist-packages (from google-auth<3dev,>=1.16.0->google-api-python-client>=1.6.7->tf-models-official==2.3.0->tflite_model_maker) (4.8)\n",
            "Requirement already satisfied: google-cloud-core<2.0dev,>=1.0.3 in /usr/local/lib/python3.7/dist-packages (from google-cloud-bigquery>=0.31.0->tf-models-official==2.3.0->tflite_model_maker) (1.0.3)\n",
            "Requirement already satisfied: google-resumable-media!=0.4.0,<0.5.0dev,>=0.3.1 in /usr/local/lib/python3.7/dist-packages (from google-cloud-bigquery>=0.31.0->tf-models-official==2.3.0->tflite_model_maker) (0.4.1)\n",
            "Requirement already satisfied: python-dateutil in /usr/local/lib/python3.7/dist-packages (from kaggle>=1.3.9->tf-models-official==2.3.0->tflite_model_maker) (2.8.2)\n",
            "Requirement already satisfied: python-slugify in /usr/local/lib/python3.7/dist-packages (from kaggle>=1.3.9->tf-models-official==2.3.0->tflite_model_maker) (6.1.2)\n",
            "Requirement already satisfied: certifi in /usr/local/lib/python3.7/dist-packages (from kaggle>=1.3.9->tf-models-official==2.3.0->tflite_model_maker) (2022.5.18.1)\n",
            "Requirement already satisfied: tqdm in /usr/local/lib/python3.7/dist-packages (from kaggle>=1.3.9->tf-models-official==2.3.0->tflite_model_maker) (4.64.0)\n",
            "Requirement already satisfied: kiwisolver>=1.0.1 in /usr/local/lib/python3.7/dist-packages (from matplotlib<3.5.0,>=3.0.3->tflite_model_maker) (1.4.2)\n",
            "Requirement already satisfied: pyparsing!=2.0.4,!=2.1.2,!=2.1.6,>=2.0.1 in /usr/local/lib/python3.7/dist-packages (from matplotlib<3.5.0,>=3.0.3->tflite_model_maker) (3.0.9)\n",
            "Requirement already satisfied: cycler>=0.10 in /usr/local/lib/python3.7/dist-packages (from matplotlib<3.5.0,>=3.0.3->tflite_model_maker) (0.11.0)\n",
            "Requirement already satisfied: typing-extensions in /usr/local/lib/python3.7/dist-packages (from kiwisolver>=1.0.1->matplotlib<3.5.0,>=3.0.3->tflite_model_maker) (4.2.0)\n",
            "Requirement already satisfied: attrs in /usr/local/lib/python3.7/dist-packages (from neural-structured-learning>=1.3.1->tflite_model_maker) (21.4.0)\n",
            "Requirement already satisfied: appdirs>=1.3.0 in /usr/local/lib/python3.7/dist-packages (from pooch>=1.0->librosa==0.8.1->tflite_model_maker) (1.4.4)\n",
            "Requirement already satisfied: pyasn1<0.5.0,>=0.4.6 in /usr/local/lib/python3.7/dist-packages (from pyasn1-modules>=0.2.1->google-auth<3dev,>=1.16.0->google-api-python-client>=1.6.7->tf-models-official==2.3.0->tflite_model_maker) (0.4.8)\n",
            "Requirement already satisfied: chardet<4,>=3.0.2 in /usr/local/lib/python3.7/dist-packages (from requests<3.0.0dev,>=2.18.0->google-api-core<3dev,>=1.21.0->google-api-python-client>=1.6.7->tf-models-official==2.3.0->tflite_model_maker) (3.0.4)\n",
            "Requirement already satisfied: idna<3,>=2.5 in /usr/local/lib/python3.7/dist-packages (from requests<3.0.0dev,>=2.18.0->google-api-core<3dev,>=1.21.0->google-api-python-client>=1.6.7->tf-models-official==2.3.0->tflite_model_maker) (2.10)\n",
            "Requirement already satisfied: threadpoolctl>=2.0.0 in /usr/local/lib/python3.7/dist-packages (from scikit-learn!=0.19.0,>=0.14.0->librosa==0.8.1->tflite_model_maker) (3.1.0)\n",
            "Requirement already satisfied: cffi>=1.0 in /usr/local/lib/python3.7/dist-packages (from soundfile>=0.10.2->librosa==0.8.1->tflite_model_maker) (1.15.0)\n",
            "Requirement already satisfied: pycparser in /usr/local/lib/python3.7/dist-packages (from cffi>=1.0->soundfile>=0.10.2->librosa==0.8.1->tflite_model_maker) (2.21)\n",
            "Requirement already satisfied: keras<2.9,>=2.8.0rc0 in /usr/local/lib/python3.7/dist-packages (from tensorflow>=2.6.0->tflite_model_maker) (2.8.0)\n",
            "Requirement already satisfied: astunparse>=1.6.0 in /usr/local/lib/python3.7/dist-packages (from tensorflow>=2.6.0->tflite_model_maker) (1.6.3)\n",
            "Requirement already satisfied: google-pasta>=0.1.1 in /usr/local/lib/python3.7/dist-packages (from tensorflow>=2.6.0->tflite_model_maker) (0.2.0)\n",
            "Requirement already satisfied: grpcio<2.0,>=1.24.3 in /usr/local/lib/python3.7/dist-packages (from tensorflow>=2.6.0->tflite_model_maker) (1.46.1)\n",
            "Requirement already satisfied: tensorboard<2.9,>=2.8 in /usr/local/lib/python3.7/dist-packages (from tensorflow>=2.6.0->tflite_model_maker) (2.8.0)\n",
            "Requirement already satisfied: gast>=0.2.1 in /usr/local/lib/python3.7/dist-packages (from tensorflow>=2.6.0->tflite_model_maker) (0.5.3)\n",
            "Requirement already satisfied: libclang>=9.0.1 in /usr/local/lib/python3.7/dist-packages (from tensorflow>=2.6.0->tflite_model_maker) (14.0.1)\n",
            "Requirement already satisfied: h5py>=2.9.0 in /usr/local/lib/python3.7/dist-packages (from tensorflow>=2.6.0->tflite_model_maker) (3.1.0)\n",
            "Requirement already satisfied: tensorflow-io-gcs-filesystem>=0.23.1 in /usr/local/lib/python3.7/dist-packages (from tensorflow>=2.6.0->tflite_model_maker) (0.26.0)\n",
            "Requirement already satisfied: tf-estimator-nightly==2.8.0.dev2021122109 in /usr/local/lib/python3.7/dist-packages (from tensorflow>=2.6.0->tflite_model_maker) (2.8.0.dev2021122109)\n",
            "Requirement already satisfied: wrapt>=1.11.0 in /usr/local/lib/python3.7/dist-packages (from tensorflow>=2.6.0->tflite_model_maker) (1.14.1)\n",
            "Requirement already satisfied: keras-preprocessing>=1.1.1 in /usr/local/lib/python3.7/dist-packages (from tensorflow>=2.6.0->tflite_model_maker) (1.1.2)\n",
            "Requirement already satisfied: opt-einsum>=2.3.2 in /usr/local/lib/python3.7/dist-packages (from tensorflow>=2.6.0->tflite_model_maker) (3.3.0)\n",
            "Requirement already satisfied: wheel<1.0,>=0.23.0 in /usr/local/lib/python3.7/dist-packages (from astunparse>=1.6.0->tensorflow>=2.6.0->tflite_model_maker) (0.37.1)\n",
            "Requirement already satisfied: cached-property in /usr/local/lib/python3.7/dist-packages (from h5py>=2.9.0->tensorflow>=2.6.0->tflite_model_maker) (1.5.2)\n",
            "Requirement already satisfied: tensorboard-plugin-wit>=1.6.0 in /usr/local/lib/python3.7/dist-packages (from tensorboard<2.9,>=2.8->tensorflow>=2.6.0->tflite_model_maker) (1.8.1)\n",
            "Requirement already satisfied: markdown>=2.6.8 in /usr/local/lib/python3.7/dist-packages (from tensorboard<2.9,>=2.8->tensorflow>=2.6.0->tflite_model_maker) (3.3.7)\n",
            "Requirement already satisfied: werkzeug>=0.11.15 in /usr/local/lib/python3.7/dist-packages (from tensorboard<2.9,>=2.8->tensorflow>=2.6.0->tflite_model_maker) (1.0.1)\n",
            "Requirement already satisfied: tensorboard-data-server<0.7.0,>=0.6.0 in /usr/local/lib/python3.7/dist-packages (from tensorboard<2.9,>=2.8->tensorflow>=2.6.0->tflite_model_maker) (0.6.1)\n",
            "Requirement already satisfied: google-auth-oauthlib<0.5,>=0.4.1 in /usr/local/lib/python3.7/dist-packages (from tensorboard<2.9,>=2.8->tensorflow>=2.6.0->tflite_model_maker) (0.4.6)\n",
            "Requirement already satisfied: requests-oauthlib>=0.7.0 in /usr/local/lib/python3.7/dist-packages (from google-auth-oauthlib<0.5,>=0.4.1->tensorboard<2.9,>=2.8->tensorflow>=2.6.0->tflite_model_maker) (1.3.1)\n",
            "Requirement already satisfied: importlib-metadata>=4.4 in /usr/local/lib/python3.7/dist-packages (from markdown>=2.6.8->tensorboard<2.9,>=2.8->tensorflow>=2.6.0->tflite_model_maker) (4.11.3)\n",
            "Requirement already satisfied: zipp>=0.5 in /usr/local/lib/python3.7/dist-packages (from importlib-metadata>=4.4->markdown>=2.6.8->tensorboard<2.9,>=2.8->tensorflow>=2.6.0->tflite_model_maker) (3.8.0)\n",
            "Requirement already satisfied: oauthlib>=3.0.0 in /usr/local/lib/python3.7/dist-packages (from requests-oauthlib>=0.7.0->google-auth-oauthlib<0.5,>=0.4.1->tensorboard<2.9,>=2.8->tensorflow>=2.6.0->tflite_model_maker) (3.2.0)\n",
            "Requirement already satisfied: typeguard>=2.7 in /usr/local/lib/python3.7/dist-packages (from tensorflow-addons>=0.11.2->tflite_model_maker) (2.7.1)\n",
            "Requirement already satisfied: tensorflow-metadata in /usr/local/lib/python3.7/dist-packages (from tensorflow-datasets>=2.1.0->tflite_model_maker) (1.8.0)\n",
            "Requirement already satisfied: future in /usr/local/lib/python3.7/dist-packages (from tensorflow-datasets>=2.1.0->tflite_model_maker) (0.16.0)\n",
            "Requirement already satisfied: promise in /usr/local/lib/python3.7/dist-packages (from tensorflow-datasets>=2.1.0->tflite_model_maker) (2.3)\n",
            "Requirement already satisfied: importlib-resources in /usr/local/lib/python3.7/dist-packages (from tensorflow-datasets>=2.1.0->tflite_model_maker) (5.7.1)\n",
            "Requirement already satisfied: dill in /usr/local/lib/python3.7/dist-packages (from tensorflow-datasets>=2.1.0->tflite_model_maker) (0.3.5.1)\n",
            "Requirement already satisfied: dm-tree in /usr/local/lib/python3.7/dist-packages (from tensorflow-datasets>=2.1.0->tflite_model_maker) (0.1.7)\n",
            "Requirement already satisfied: pybind11>=2.6.0 in /usr/local/lib/python3.7/dist-packages (from tflite-support>=0.4.0->tflite_model_maker) (2.9.2)\n",
            "Requirement already satisfied: sounddevice>=0.4.4 in /usr/local/lib/python3.7/dist-packages (from tflite-support>=0.4.0->tflite_model_maker) (0.4.4)\n",
            "Requirement already satisfied: text-unidecode>=1.3 in /usr/local/lib/python3.7/dist-packages (from python-slugify->kaggle>=1.3.9->tf-models-official==2.3.0->tflite_model_maker) (1.3)\n"
          ]
        }
      ],
      "source": [
        "!sudo apt -y install libportaudio2\n",
        "!pip install tflite_model_maker"
      ]
    },
    {
      "cell_type": "code",
      "source": [
        "import os\n",
        "import glob\n",
        "import random\n",
        "import shutil"
      ],
      "metadata": {
        "id": "OtmsE4l7IZcR"
      },
      "execution_count": 14,
      "outputs": []
    },
    {
      "cell_type": "code",
      "source": [
        "import librosa\n",
        "import soundfile as sf\n",
        "from IPython.display import Audio\n",
        "import numpy as np\n",
        "import matplotlib.pyplot as plt\n",
        "import seaborn as sns"
      ],
      "metadata": {
        "id": "pXEAIn9zIdnr"
      },
      "execution_count": 15,
      "outputs": []
    },
    {
      "cell_type": "code",
      "source": [
        "import tensorflow as tf"
      ],
      "metadata": {
        "id": "d9-R9v21IglL"
      },
      "execution_count": 16,
      "outputs": []
    },
    {
      "cell_type": "code",
      "source": [
        "import tflite_model_maker as mm"
      ],
      "metadata": {
        "id": "EJM3EGUdIixW"
      },
      "execution_count": 17,
      "outputs": []
    },
    {
      "cell_type": "code",
      "source": [
        "from tflite_model_maker import audio_classifier"
      ],
      "metadata": {
        "id": "czW-UklYIkFi"
      },
      "execution_count": 18,
      "outputs": []
    },
    {
      "cell_type": "code",
      "source": [
        "from tflite_model_maker.config import ExportFormat"
      ],
      "metadata": {
        "id": "p64bW1e6Il0Z"
      },
      "execution_count": 19,
      "outputs": []
    },
    {
      "cell_type": "code",
      "source": [
        "print(f\"TensorFlow Version: {tf.__version__}\")"
      ],
      "metadata": {
        "colab": {
          "base_uri": "https://localhost:8080/"
        },
        "id": "42z5hDqDIogx",
        "outputId": "44b84c28-2d9c-43bd-f955-d3090a44e195"
      },
      "execution_count": 20,
      "outputs": [
        {
          "output_type": "stream",
          "name": "stdout",
          "text": [
            "TensorFlow Version: 2.8.0\n"
          ]
        }
      ]
    },
    {
      "cell_type": "code",
      "source": [
        "print(f\"Model Maker Version: {mm.__version__}\")"
      ],
      "metadata": {
        "colab": {
          "base_uri": "https://localhost:8080/"
        },
        "id": "tH4bx1AQIpbp",
        "outputId": "4d008ecb-ce37-462d-84c2-ec8a4a852651"
      },
      "execution_count": 21,
      "outputs": [
        {
          "output_type": "stream",
          "name": "stdout",
          "text": [
            "Model Maker Version: 0.4.0\n"
          ]
        }
      ]
    },
    {
      "cell_type": "code",
      "source": [
        "use_custom_dataset = True"
      ],
      "metadata": {
        "id": "TwQ0jK_cJ0Jz"
      },
      "execution_count": 22,
      "outputs": []
    },
    {
      "cell_type": "code",
      "source": [
        "if use_custom_dataset:\n",
        "  # Specify the ZIP file you uploaded:\n",
        "  !unzip dataset.zip\n",
        "  # Specify the unzipped path to your custom dataset\n",
        "  # (this path contains all the subfolders with classification names):\n",
        "  dataset_dir = './dataset'"
      ],
      "metadata": {
        "colab": {
          "base_uri": "https://localhost:8080/"
        },
        "id": "jvf96pbBJHXM",
        "outputId": "20680594-4eba-4dc5-9ed7-21396759131e"
      },
      "execution_count": 23,
      "outputs": [
        {
          "output_type": "stream",
          "name": "stdout",
          "text": [
            "Archive:  dataset.zip\n",
            "replace dataset/bird/00b01445_nohash_0.wav? [y]es, [n]o, [A]ll, [N]one, [r]ename: a\n",
            "error:  invalid response [a]\n",
            "replace dataset/bird/00b01445_nohash_0.wav? [y]es, [n]o, [A]ll, [N]one, [r]ename: "
          ]
        }
      ]
    },
    {
      "cell_type": "code",
      "source": [
        "def move_background_dataset(dataset_dir):\n",
        "  dest_dir = os.path.join(dataset_dir, 'background')\n",
        "  if os.path.exists(dest_dir):\n",
        "    files = glob.glob(os.path.join(background_dir, '*.wav'))\n",
        "    for file in files:\n",
        "      shutil.move(file, dest_dir)\n",
        "  else:\n",
        "    shutil.move(background_dir, dest_dir)"
      ],
      "metadata": {
        "id": "7R51o3KmKShk"
      },
      "execution_count": 24,
      "outputs": []
    },
    {
      "cell_type": "code",
      "source": [
        "if use_custom_dataset:\n",
        "\n",
        "  # Now we separate some of the files that we'll use for testing:\n",
        "  test_dir = './dataset-test'\n",
        "  test_data_ratio = 0.2\n",
        "  dirs = glob.glob(os.path.join(dataset_dir, '*/'))\n",
        "  for dir in dirs:\n",
        "    files = glob.glob(os.path.join(dir, '*.wav'))\n",
        "    test_count = round(len(files) * test_data_ratio)\n",
        "    random.seed(42)\n",
        "    random.shuffle(files)\n",
        "    # Move test samples:\n",
        "    for file in files[:test_count]:\n",
        "      class_dir = os.path.basename(os.path.normpath(dir))\n",
        "      os.makedirs(os.path.join(test_dir, class_dir), exist_ok=True)\n",
        "      os.rename(file, os.path.join(test_dir, class_dir, os.path.basename(file)))\n",
        "    print('Moved', test_count, 'images from', class_dir)"
      ],
      "metadata": {
        "colab": {
          "base_uri": "https://localhost:8080/"
        },
        "id": "b03tM4bdKUBR",
        "outputId": "a218467e-afdc-4ca7-cfce-dc9051bcf2ec"
      },
      "execution_count": 26,
      "outputs": [
        {
          "output_type": "stream",
          "name": "stdout",
          "text": [
            "Moved 30 images from bird\n",
            "Moved 30 images from cat\n"
          ]
        }
      ]
    },
    {
      "cell_type": "code",
      "source": [
        "def get_random_audio_file(samples_dir):\n",
        "  files = os.path.abspath(os.path.join(samples_dir, '*/*.wav'))\n",
        "  files_list = glob.glob(files)\n",
        "  random_audio_path = random.choice(files_list)\n",
        "  return random_audio_path\n",
        "\n",
        "def show_sample(audio_path):\n",
        "  audio_data, sample_rate = sf.read(audio_path)\n",
        "  class_name = os.path.basename(os.path.dirname(audio_path))\n",
        "  print(f'Class: {class_name}')\n",
        "  print(f'File: {audio_path}')\n",
        "  print(f'Sample rate: {sample_rate}')\n",
        "  print(f'Sample length: {len(audio_data)}')\n",
        "\n",
        "  plt.title(class_name)\n",
        "  plt.plot(audio_data)\n",
        "  display(Audio(audio_data, rate=sample_rate))"
      ],
      "metadata": {
        "id": "UJKP0wmDKdP6"
      },
      "execution_count": 27,
      "outputs": []
    },
    {
      "cell_type": "code",
      "source": [
        "random_audio = get_random_audio_file(test_dir)\n",
        "show_sample(random_audio)"
      ],
      "metadata": {
        "colab": {
          "base_uri": "https://localhost:8080/",
          "height": 409
        },
        "id": "1YOVFfWvKepU",
        "outputId": "8f27c778-60f9-4324-9f9c-ae6ff94341ce"
      },
      "execution_count": 28,
      "outputs": [
        {
          "output_type": "stream",
          "name": "stdout",
          "text": [
            "Class: cat\n",
            "File: /content/dataset-test/cat/4abb2400_nohash_0.wav\n",
            "Sample rate: 16000\n",
            "Sample length: 16000\n"
          ]
        },
        {
          "output_type": "display_data",
          "data": {
            "text/plain": [
              "<IPython.lib.display.Audio object>"
            ],
            "text/html": [
              "\n",
              "                <audio controls=\"controls\" >\n",
              "                    <source src=\"data:audio/wav;base64,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\" type=\"audio/wav\" />\n",
              "                    Your browser does not support the audio element.\n",
              "                </audio>\n",
              "              "
            ]
          },
          "metadata": {}
        },
        {
          "output_type": "display_data",
          "data": {
            "text/plain": [
              "<Figure size 432x288 with 1 Axes>"
            ],
            "image/png": "[encoded data removed]"
          },
          "metadata": {
            "needs_background": "light"
          }
        }
      ]
    },
    {
      "cell_type": "code",
      "source": [
        "spec = audio_classifier.BrowserFftSpec()"
      ],
      "metadata": {
        "colab": {
          "base_uri": "https://localhost:8080/"
        },
        "id": "OUaqirzRKkN_",
        "outputId": "ceb8ad63-932b-4548-96f6-b0ca935f08a2"
      },
      "execution_count": 29,
      "outputs": [
        {
          "output_type": "stream",
          "name": "stdout",
          "text": [
            "INFO:tensorflow:Checkpoints are stored in /tmp/tmpriesrkm4\n",
            "Downloading data from https://storage.googleapis.com/tfjs-models/tfjs/speech-commands/conversion/sc_preproc_model.tar.gz\n",
            "24576/18467 [=======================================] - 0s 0us/step\n",
            "32768/18467 [=====================================================] - 0s 0us/step\n",
            "WARNING:tensorflow:SavedModel saved prior to TF 2.5 detected when loading Keras model. Please ensure that you are saving the model with model.save() or tf.keras.models.save_model(), *NOT* tf.saved_model.save(). To confirm, there should be a file named \"keras_metadata.pb\" in the SavedModel directory.\n",
            "WARNING:tensorflow:No training configuration found in save file, so the model was *not* compiled. Compile it manually.\n",
            "Downloading data from https://storage.googleapis.com/tfjs-models/tfjs/speech-commands/v0.3/browser_fft/18w/metadata.json\n",
            "16384/203 [=====================================================================================================================================================================================================================================================================================================================================================================================================================================================================================================================================================================================================================================================================================================================================================================================================================================================================================================================================================================================================================================================================================================================================================================================================================================================================================================================================================================================================================================================================================================================================================================================================================================================================================================================================================================================================================================================================================================================================================================================================================================================================================================================================================================================================================================================================================================================================================================================================================================================================================================================] - 0s 0us/step\n",
            "Downloading data from https://storage.googleapis.com/tfjs-models/tfjs/speech-commands/v0.3/browser_fft/18w/model.json\n",
            "16384/5466 [=========================================================================================] - 0s 0us/step\n",
            "Downloading data from https://storage.googleapis.com/tfjs-models/tfjs/speech-commands/v0.3/browser_fft/18w/group1-shard1of2\n",
            "4194304/4194304 [==============================] - 0s 0us/step\n",
            "4202496/4194304 [==============================] - 0s 0us/step\n",
            "Downloading data from https://storage.googleapis.com/tfjs-models/tfjs/speech-commands/v0.3/browser_fft/18w/group1-shard2of2\n",
            "1687552/1680432 [==============================] - 0s 0us/step\n",
            "1695744/1680432 [==============================] - 0s 0us/step\n"
          ]
        }
      ]
    },
    {
      "cell_type": "code",
      "source": [
        "if not use_custom_dataset:\n",
        "  train_data_ratio = 0.8\n",
        "  train_data = audio_classifier.DataLoader.from_folder(\n",
        "      spec, dataset_dir, cache=True)\n",
        "  train_data, validation_data = train_data.split(train_data_ratio)\n",
        "  test_data = audio_classifier.DataLoader.from_folder(\n",
        "      spec, test_dir, cache=True)"
      ],
      "metadata": {
        "id": "mii-AKtpKqif"
      },
      "execution_count": 30,
      "outputs": []
    },
    {
      "cell_type": "code",
      "source": [
        "if use_custom_dataset:\n",
        "  train_data_ratio = 0.8\n",
        "  train_data = audio_classifier.DataLoader.from_folder(\n",
        "      spec, dataset_dir, cache=True)\n",
        "  train_data, validation_data = train_data.split(train_data_ratio)\n",
        "  test_data = audio_classifier.DataLoader.from_folder(\n",
        "      spec, test_dir, cache=True)"
      ],
      "metadata": {
        "id": "dYy_jvq7KumY"
      },
      "execution_count": 31,
      "outputs": []
    },
    {
      "cell_type": "code",
      "source": [
        "# If your dataset has fewer than 100 samples per class,\n",
        "# you might want to try a smaller batch size\n",
        "batch_size = 25\n",
        "epochs = 25\n",
        "model = audio_classifier.create(train_data, spec, validation_data, batch_size, epochs)"
      ],
      "metadata": {
        "colab": {
          "base_uri": "https://localhost:8080/"
        },
        "id": "xuAcXEbOKxqj",
        "outputId": "10dddbb8-4f9b-473b-8b5f-bfc0fc608fbb"
      },
      "execution_count": 32,
      "outputs": [
        {
          "output_type": "stream",
          "name": "stdout",
          "text": [
            "Model: \"sequential_1\"\n",
            "_________________________________________________________________\n",
            " Layer (type)                Output Shape              Param #   \n",
            "=================================================================\n",
            " conv2d_1 (Conv2D)           (None, 42, 225, 8)        136       \n",
            "                                                                 \n",
            " max_pooling2d_1 (MaxPooling  (None, 21, 112, 8)       0         \n",
            " 2D)                                                             \n",
            "                                                                 \n",
            " conv2d_2 (Conv2D)           (None, 20, 109, 32)       2080      \n",
            "                                                                 \n",
            " max_pooling2d_2 (MaxPooling  (None, 10, 54, 32)       0         \n",
            " 2D)                                                             \n",
            "                                                                 \n",
            " conv2d_3 (Conv2D)           (None, 9, 51, 32)         8224      \n",
            "                                                                 \n",
            " max_pooling2d_3 (MaxPooling  (None, 4, 25, 32)        0         \n",
            " 2D)                                                             \n",
            "                                                                 \n",
            " conv2d_4 (Conv2D)           (None, 3, 22, 32)         8224      \n",
            "                                                                 \n",
            " max_pooling2d_4 (MaxPooling  (None, 2, 11, 32)        0         \n",
            " 2D)                                                             \n",
            "                                                                 \n",
            " flatten_1 (Flatten)         (None, 704)               0         \n",
            "                                                                 \n",
            " dropout_1 (Dropout)         (None, 704)               0         \n",
            "                                                                 \n",
            " dense_1 (Dense)             (None, 2000)              1410000   \n",
            "                                                                 \n",
            " dropout_2 (Dropout)         (None, 2000)              0         \n",
            "                                                                 \n",
            " classification_head (Dense)  (None, 2)                4002      \n",
            "                                                                 \n",
            "=================================================================\n",
            "Total params: 1,432,666\n",
            "Trainable params: 4,002\n",
            "Non-trainable params: 1,428,664\n",
            "_________________________________________________________________\n",
            "Epoch 1/25\n",
            "7/7 [==============================] - 21s 788ms/step - loss: 1.2158 - acc: 0.6121 - val_loss: 0.2814 - val_acc: 0.9250\n",
            "Epoch 2/25\n",
            "7/7 [==============================] - 0s 32ms/step - loss: 0.4384 - acc: 0.8303 - val_loss: 0.1651 - val_acc: 0.9750\n",
            "Epoch 3/25\n",
            "7/7 [==============================] - 0s 31ms/step - loss: 0.2133 - acc: 0.9333 - val_loss: 0.1418 - val_acc: 0.9500\n",
            "Epoch 4/25\n",
            "7/7 [==============================] - 0s 33ms/step - loss: 0.1275 - acc: 0.9576 - val_loss: 0.1448 - val_acc: 0.9250\n",
            "Epoch 5/25\n",
            "7/7 [==============================] - 0s 30ms/step - loss: 0.1022 - acc: 0.9455 - val_loss: 0.1529 - val_acc: 0.9250\n",
            "Epoch 6/25\n",
            "7/7 [==============================] - 0s 31ms/step - loss: 0.1252 - acc: 0.9394 - val_loss: 0.1645 - val_acc: 0.9250\n",
            "Epoch 7/25\n",
            "7/7 [==============================] - 0s 32ms/step - loss: 0.0990 - acc: 0.9576 - val_loss: 0.1774 - val_acc: 0.9250\n",
            "Epoch 8/25\n",
            "7/7 [==============================] - 0s 33ms/step - loss: 0.0679 - acc: 0.9758 - val_loss: 0.1818 - val_acc: 0.9250\n",
            "Epoch 9/25\n",
            "7/7 [==============================] - 0s 31ms/step - loss: 0.1001 - acc: 0.9455 - val_loss: 0.1984 - val_acc: 0.9250\n",
            "Epoch 10/25\n",
            "7/7 [==============================] - 0s 32ms/step - loss: 0.0504 - acc: 0.9879 - val_loss: 0.2179 - val_acc: 0.9250\n",
            "Epoch 11/25\n",
            "7/7 [==============================] - 0s 33ms/step - loss: 0.0456 - acc: 0.9818 - val_loss: 0.2281 - val_acc: 0.9250\n",
            "Epoch 12/25\n",
            "7/7 [==============================] - 0s 30ms/step - loss: 0.0607 - acc: 0.9818 - val_loss: 0.2358 - val_acc: 0.9250\n",
            "Epoch 13/25\n",
            "7/7 [==============================] - 0s 31ms/step - loss: 0.0284 - acc: 0.9939 - val_loss: 0.2484 - val_acc: 0.9250\n",
            "Epoch 14/25\n",
            "7/7 [==============================] - 0s 35ms/step - loss: 0.0694 - acc: 0.9697 - val_loss: 0.2545 - val_acc: 0.9250\n",
            "Epoch 15/25\n",
            "7/7 [==============================] - 0s 30ms/step - loss: 0.0317 - acc: 0.9879 - val_loss: 0.2609 - val_acc: 0.9250\n",
            "Epoch 16/25\n",
            "7/7 [==============================] - 0s 31ms/step - loss: 0.0651 - acc: 0.9697 - val_loss: 0.2646 - val_acc: 0.9250\n",
            "Epoch 17/25\n",
            "7/7 [==============================] - 0s 31ms/step - loss: 0.0110 - acc: 1.0000 - val_loss: 0.2716 - val_acc: 0.9250\n",
            "Epoch 18/25\n",
            "7/7 [==============================] - 0s 34ms/step - loss: 0.0287 - acc: 0.9879 - val_loss: 0.2755 - val_acc: 0.9250\n",
            "Epoch 19/25\n",
            "7/7 [==============================] - 0s 32ms/step - loss: 0.0150 - acc: 1.0000 - val_loss: 0.2769 - val_acc: 0.9250\n",
            "Epoch 20/25\n",
            "7/7 [==============================] - 0s 31ms/step - loss: 0.0254 - acc: 0.9879 - val_loss: 0.2814 - val_acc: 0.9250\n",
            "Epoch 21/25\n",
            "7/7 [==============================] - 0s 33ms/step - loss: 0.0145 - acc: 1.0000 - val_loss: 0.2861 - val_acc: 0.9250\n",
            "Epoch 22/25\n",
            "7/7 [==============================] - 0s 30ms/step - loss: 0.0189 - acc: 0.9939 - val_loss: 0.2893 - val_acc: 0.9250\n",
            "Epoch 23/25\n",
            "7/7 [==============================] - 0s 32ms/step - loss: 0.0248 - acc: 0.9879 - val_loss: 0.2899 - val_acc: 0.9250\n",
            "Epoch 24/25\n",
            "7/7 [==============================] - 0s 32ms/step - loss: 0.0233 - acc: 0.9879 - val_loss: 0.2841 - val_acc: 0.9250\n",
            "Epoch 25/25\n",
            "7/7 [==============================] - 0s 34ms/step - loss: 0.0156 - acc: 1.0000 - val_loss: 0.2861 - val_acc: 0.9250\n"
          ]
        }
      ]
    },
    {
      "cell_type": "code",
      "source": [
        "model.evaluate(test_data)"
      ],
      "metadata": {
        "colab": {
          "base_uri": "https://localhost:8080/"
        },
        "id": "qTHQPnxrLN68",
        "outputId": "fa88061f-cc61-45db-cbdd-31445e1a1866"
      },
      "execution_count": 33,
      "outputs": [
        {
          "output_type": "stream",
          "name": "stdout",
          "text": [
            "2/2 [==============================] - 3s 1s/step - loss: 0.0045 - acc: 1.0000\n"
          ]
        },
        {
          "output_type": "execute_result",
          "data": {
            "text/plain": [
              "[0.00445579644292593, 1.0]"
            ]
          },
          "metadata": {},
          "execution_count": 33
        }
      ]
    },
    {
      "cell_type": "code",
      "source": [
        "def show_confusion_matrix(confusion, test_labels):\n",
        "  \"\"\"Compute confusion matrix and normalize.\"\"\"\n",
        "  confusion_normalized = confusion.astype(\"float\") / confusion.sum(axis=1)\n",
        "  sns.set(rc = {'figure.figsize':(6,6)})\n",
        "  sns.heatmap(\n",
        "      confusion_normalized, xticklabels=test_labels, yticklabels=test_labels,\n",
        "      cmap='Blues', annot=True, fmt='.2f', square=True, cbar=False)\n",
        "  plt.title(\"Confusion matrix\")\n",
        "  plt.ylabel(\"True label\")\n",
        "  plt.xlabel(\"Predicted label\")\n",
        "\n",
        "confusion_matrix = model.confusion_matrix(test_data)\n",
        "show_confusion_matrix(confusion_matrix.numpy(), test_data.index_to_label)"
      ],
      "metadata": {
        "colab": {
          "base_uri": "https://localhost:8080/",
          "height": 410
        },
        "id": "WPR1JimHLTzz",
        "outputId": "5c6ec17e-f7b0-4100-ef94-692cae29daa4"
      },
      "execution_count": 34,
      "outputs": [
        {
          "output_type": "display_data",
          "data": {
            "text/plain": [
              "<Figure size 432x432 with 1 Axes>"
            ],
            "image/png": "[encoded data removed]"
          },
          "metadata": {}
        }
      ]
    },
    {
      "cell_type": "code",
      "source": [
        "TFLITE_FILENAME = 'browserfft-speech.tflite'\n",
        "SAVE_PATH = './models'"
      ],
      "metadata": {
        "id": "sFiDnpxBLbsy"
      },
      "execution_count": 35,
      "outputs": []
    },
    {
      "cell_type": "code",
      "source": [
        "print(f'Exporing the model to {SAVE_PATH}')\n",
        "model.export(SAVE_PATH, tflite_filename=TFLITE_FILENAME)\n",
        "model.export(SAVE_PATH, export_format=[mm.ExportFormat.SAVED_MODEL, mm.ExportFormat.LABEL])"
      ],
      "metadata": {
        "colab": {
          "base_uri": "https://localhost:8080/"
        },
        "id": "vErXHeRyLggP",
        "outputId": "db04d65a-c7a5-4497-fcc1-c29c4c3b6263"
      },
      "execution_count": 36,
      "outputs": [
        {
          "output_type": "stream",
          "name": "stdout",
          "text": [
            "Exporing the model to ./models\n",
            "INFO:tensorflow:Assets written to: /tmp/tmphl32bz6q/assets\n",
            "INFO:tensorflow:TensorFlow Lite model exported successfully: ./models/browserfft-speech.tflite\n"
          ]
        },
        {
          "output_type": "stream",
          "name": "stderr",
          "text": [
            "INFO:tensorflow:TensorFlow Lite model exported successfully: ./models/browserfft-speech.tflite\n"
          ]
        },
        {
          "output_type": "stream",
          "name": "stdout",
          "text": [
            "WARNING:tensorflow:Compiled the loaded model, but the compiled metrics have yet to be built. `model.compile_metrics` will be empty until you train or evaluate the model.\n"
          ]
        },
        {
          "output_type": "stream",
          "name": "stderr",
          "text": [
            "WARNING:tensorflow:Compiled the loaded model, but the compiled metrics have yet to be built. `model.compile_metrics` will be empty until you train or evaluate the model.\n"
          ]
        },
        {
          "output_type": "stream",
          "name": "stdout",
          "text": [
            "INFO:tensorflow:Assets written to: ./models/saved_model/assets\n"
          ]
        },
        {
          "output_type": "stream",
          "name": "stderr",
          "text": [
            "INFO:tensorflow:Assets written to: ./models/saved_model/assets\n"
          ]
        },
        {
          "output_type": "stream",
          "name": "stdout",
          "text": [
            "INFO:tensorflow:Saving labels in ./models/labels.txt\n"
          ]
        },
        {
          "output_type": "stream",
          "name": "stderr",
          "text": [
            "INFO:tensorflow:Saving labels in ./models/labels.txt\n"
          ]
        }
      ]
    },
    {
      "cell_type": "code",
      "source": [
        "# This library provides the TFLite metadata API\n",
        "!pip install -q tflite_support"
      ],
      "metadata": {
        "id": "AerfiBqkLte8"
      },
      "execution_count": 38,
      "outputs": []
    },
    {
      "cell_type": "code",
      "source": [
        "from tflite_support import metadata\n",
        "import json\n",
        "\n",
        "def get_labels(model):\n",
        "  \"\"\"Returns a list of labels, extracted from the model metadata.\"\"\"\n",
        "  displayer = metadata.MetadataDisplayer.with_model_file(model)\n",
        "  labels_file = displayer.get_packed_associated_file_list()[0]\n",
        "  labels = displayer.get_associated_file_buffer(labels_file).decode()\n",
        "  return [line for line in labels.split('\\n')]\n",
        "\n",
        "def get_input_sample_rate(model):\n",
        "  \"\"\"Returns the model's expected sample rate, from the model metadata.\"\"\"\n",
        "  displayer = metadata.MetadataDisplayer.with_model_file(model)\n",
        "  metadata_json = json.loads(displayer.get_metadata_json())\n",
        "  input_tensor_metadata = metadata_json['subgraph_metadata'][0][\n",
        "          'input_tensor_metadata'][0]\n",
        "  input_content_props = input_tensor_metadata['content']['content_properties']\n",
        "  return input_content_props['sample_rate']"
      ],
      "metadata": {
        "id": "54GH3bBDMP4d"
      },
      "execution_count": 39,
      "outputs": []
    },
    {
      "cell_type": "code",
      "source": [
        "# Get a WAV file for inference and list of labels from the model\n",
        "tflite_file = os.path.join(SAVE_PATH, TFLITE_FILENAME)\n",
        "labels = get_labels(tflite_file)\n",
        "random_audio = get_random_audio_file(test_dir)\n",
        "\n",
        "# Ensure the audio sample fits the model input\n",
        "interpreter = tf.lite.Interpreter(tflite_file)\n",
        "input_details = interpreter.get_input_details()\n",
        "output_details = interpreter.get_output_details()\n",
        "input_size = input_details[0]['shape'][1]\n",
        "sample_rate = get_input_sample_rate(tflite_file)\n",
        "audio_data, _ = librosa.load(random_audio, sr=sample_rate)\n",
        "if len(audio_data) < input_size:\n",
        "  audio_data.resize(input_size)\n",
        "audio_data = np.expand_dims(audio_data[:input_size], axis=0)\n",
        "\n",
        "# Run inference\n",
        "interpreter.allocate_tensors()\n",
        "interpreter.set_tensor(input_details[0]['index'], audio_data)\n",
        "interpreter.invoke()\n",
        "output_data = interpreter.get_tensor(output_details[0]['index'])\n",
        "\n",
        "# Display prediction and ground truth\n",
        "top_index = np.argmax(output_data[0])\n",
        "label = labels[top_index]\n",
        "score = output_data[0][top_index]\n",
        "print('---prediction---')\n",
        "print(f'Class: {label}\\nScore: {score}')\n",
        "print('----truth----')\n",
        "show_sample(random_audio)"
      ],
      "metadata": {
        "colab": {
          "base_uri": "https://localhost:8080/",
          "height": 590
        },
        "id": "OnnZxQ7MMStJ",
        "outputId": "6dde39d7-65cd-4771-b07c-6625ccebc3c5"
      },
      "execution_count": 40,
      "outputs": [
        {
          "output_type": "stream",
          "name": "stdout",
          "text": [
            "---prediction---\n",
            "Class: bird\n",
            "Score: 1.0\n",
            "----truth----\n",
            "Class: cat\n",
            "File: /content/dataset-test/cat/3d3ddaf8_nohash_0.wav\n",
            "Sample rate: 16000\n",
            "Sample length: 14118\n"
          ]
        },
        {
          "output_type": "display_data",
          "data": {
            "text/plain": [
              "<IPython.lib.display.Audio object>"
            ],
            "text/html": [
              "\n",
              "                <audio controls=\"controls\" >\n",
              "                    <source src=\"data:audio/wav;base64,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\" type=\"audio/wav\" />\n",
              "                    Your browser does not support the audio element.\n",
              "                </audio>\n",
              "              "
            ]
          },
          "metadata": {}
        },
        {
          "output_type": "display_data",
          "data": {
            "text/plain": [
              "<Figure size 432x432 with 1 Axes>"
            ],
            "image/png": "[encoded data removed]"
          },
          "metadata": {}
        }
      ]
    },
    {
      "cell_type": "code",
      "source": [
        "try:\n",
        "  from google.colab import files\n",
        "except ImportError:\n",
        "  pass\n",
        "else:\n",
        "  files.download(tflite_file)"
      ],
      "metadata": {
        "colab": {
          "base_uri": "https://localhost:8080/",
          "height": 17
        },
        "id": "LkEeKEyxMbte",
        "outputId": "3c847c01-fb2a-45ab-a45f-1661a888787e"
      },
      "execution_count": 41,
      "outputs": [
        {
          "output_type": "display_data",
          "data": {
            "text/plain": [
              "<IPython.core.display.Javascript object>"
            ],
            "application/javascript": [
              "\n",
              "    async function download(id, filename, size) {\n",
              "      if (!google.colab.kernel.accessAllowed) {\n",
              "        return;\n",
              "      }\n",
              "      const div = document.createElement('div');\n",
              "      const label = document.createElement('label');\n",
              "      label.textContent = `Downloading \"${filename}\": `;\n",
              "      div.appendChild(label);\n",
              "      const progress = document.createElement('progress');\n",
              "      progress.max = size;\n",
              "      div.appendChild(progress);\n",
              "      document.body.appendChild(div);\n",
              "\n",
              "      const buffers = [];\n",
              "      let downloaded = 0;\n",
              "\n",
              "      const channel = await google.colab.kernel.comms.open(id);\n",
              "      // Send a message to notify the kernel that we're ready.\n",
              "      channel.send({})\n",
              "\n",
              "      for await (const message of channel.messages) {\n",
              "        // Send a message to notify the kernel that we're ready.\n",
              "        channel.send({})\n",
              "        if (message.buffers) {\n",
              "          for (const buffer of message.buffers) {\n",
              "            buffers.push(buffer);\n",
              "            downloaded += buffer.byteLength;\n",
              "            progress.value = downloaded;\n",
              "          }\n",
              "        }\n",
              "      }\n",
              "      const blob = new Blob(buffers, {type: 'application/binary'});\n",
              "      const a = document.createElement('a');\n",
              "      a.href = window.URL.createObjectURL(blob);\n",
              "      a.download = filename;\n",
              "      div.appendChild(a);\n",
              "      a.click();\n",
              "      div.remove();\n",
              "    }\n",
              "  "
            ]
          },
          "metadata": {}
        },
        {
          "output_type": "display_data",
          "data": {
            "text/plain": [
              "<IPython.core.display.Javascript object>"
            ],
            "application/javascript": [
              "download(\"download_0059e60d-2d7a-4799-bce4-dc662fc6a27a\", \"browserfft-speech.tflite\", 5758398)"
            ]
          },
          "metadata": {}
        }
      ]
    }
  ]
}